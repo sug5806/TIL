{
 "cells": [
  {
   "cell_type": "markdown",
   "metadata": {},
   "source": [
    "# 가정:\n",
    "\n",
    "## A씨는 과일장사이고 1 박스에 10개씩 들어 있는 귤을 1개씩 팔고 있다.\n",
    "\n",
    "## 귤은 1개에 50원이고 1명에게는 딱 1개씩만 팔게 되어있다.\n",
    "\n",
    "## 손님들은 50원 또는 100원짜리 하나씩만 가지고 있다.\n",
    "\n",
    " \n",
    "\n",
    "# 문제:\n",
    "\n",
    "## A씨가 아침에 거스름돈 하나도 없이 장사를 시작해서 귤 10 상자 즉 100개를 무사히 다 팔 수 있는 확률은 얼마인가?\n",
    "\n",
    "## 단, 50원과 100원을 가진 손님의 수는 같고 무작위로 방문하여 귤을 산다고 가정한다.\n",
    "\n",
    " \n",
    "\n",
    "-       입력: 전체 귤의 상자 수\n",
    "\n",
    "-       출력: 전체 실행시간과 A씨가 무사히 장사를 마칠 확률 (소수점 2째자리까지 표시)\n",
    "\n",
    "-       참고: 공식을 사용하면 안되고, 정답은 1/50 으로 0.02 이다."
   ]
  },
  {
   "cell_type": "code",
   "execution_count": 36,
   "metadata": {},
   "outputs": [],
   "source": [
    "import random\n",
    "li_50 = [50 for _ in range(50)]\n",
    "li_100 = [100 for _ in range(50)]\n",
    "customer_list= li_50+li_100"
   ]
  },
  {
   "cell_type": "code",
   "execution_count": 37,
   "metadata": {},
   "outputs": [
    {
     "name": "stdout",
     "output_type": "stream",
     "text": [
      "전체 귤상자를 입력하세요10\n"
     ]
    }
   ],
   "source": [
    "box = input('전체 귤상자를 입력하세요')\n",
    "gull = int(box * 10)"
   ]
  },
  {
   "cell_type": "code",
   "execution_count": 38,
   "metadata": {},
   "outputs": [],
   "source": [
    "me = 0\n",
    "fail = 0\n",
    "success = 0\n"
   ]
  },
  {
   "cell_type": "code",
   "execution_count": 39,
   "metadata": {},
   "outputs": [
    {
     "ename": "IndexError",
     "evalue": "list index out of range",
     "output_type": "error",
     "traceback": [
      "\u001b[0;31m---------------------------------------------------------------------------\u001b[0m",
      "\u001b[0;31mIndexError\u001b[0m                                Traceback (most recent call last)",
      "\u001b[0;32m<ipython-input-39-a31d01efe825>\u001b[0m in \u001b[0;36m<module>\u001b[0;34m\u001b[0m\n\u001b[1;32m     12\u001b[0m         \u001b[0msell\u001b[0m\u001b[0;34m(\u001b[0m\u001b[0mme\u001b[0m\u001b[0;34m,\u001b[0m \u001b[0mgull\u001b[0m\u001b[0;34m,\u001b[0m \u001b[0mcustomer_list\u001b[0m\u001b[0;34m)\u001b[0m\u001b[0;34m\u001b[0m\u001b[0;34m\u001b[0m\u001b[0m\n\u001b[1;32m     13\u001b[0m \u001b[0;34m\u001b[0m\u001b[0m\n\u001b[0;32m---> 14\u001b[0;31m \u001b[0ma\u001b[0m\u001b[0;34m,\u001b[0m \u001b[0mb\u001b[0m \u001b[0;34m=\u001b[0m \u001b[0msell\u001b[0m\u001b[0;34m(\u001b[0m\u001b[0mme\u001b[0m\u001b[0;34m,\u001b[0m \u001b[0mgull\u001b[0m\u001b[0;34m,\u001b[0m \u001b[0mcustomer_list\u001b[0m\u001b[0;34m)\u001b[0m\u001b[0;34m\u001b[0m\u001b[0;34m\u001b[0m\u001b[0m\n\u001b[0m",
      "\u001b[0;32m<ipython-input-39-a31d01efe825>\u001b[0m in \u001b[0;36msell\u001b[0;34m(me, gull, customer_list)\u001b[0m\n\u001b[1;32m      1\u001b[0m \u001b[0;32mdef\u001b[0m \u001b[0msell\u001b[0m\u001b[0;34m(\u001b[0m\u001b[0mme\u001b[0m\u001b[0;34m,\u001b[0m \u001b[0mgull\u001b[0m\u001b[0;34m,\u001b[0m \u001b[0mcustomer_list\u001b[0m\u001b[0;34m)\u001b[0m\u001b[0;34m:\u001b[0m\u001b[0;34m\u001b[0m\u001b[0;34m\u001b[0m\u001b[0m\n\u001b[1;32m      2\u001b[0m     \u001b[0mran_num\u001b[0m \u001b[0;34m=\u001b[0m \u001b[0mrandom\u001b[0m\u001b[0;34m.\u001b[0m\u001b[0mrandint\u001b[0m\u001b[0;34m(\u001b[0m\u001b[0;36m0\u001b[0m\u001b[0;34m,\u001b[0m \u001b[0mgull\u001b[0m\u001b[0;34m)\u001b[0m\u001b[0;34m\u001b[0m\u001b[0;34m\u001b[0m\u001b[0m\n\u001b[0;32m----> 3\u001b[0;31m     \u001b[0mcustomer_money\u001b[0m \u001b[0;34m=\u001b[0m \u001b[0mcustomer_list\u001b[0m\u001b[0;34m[\u001b[0m\u001b[0mran_num\u001b[0m\u001b[0;34m]\u001b[0m\u001b[0;34m\u001b[0m\u001b[0;34m\u001b[0m\u001b[0m\n\u001b[0m\u001b[1;32m      4\u001b[0m     \u001b[0mme\u001b[0m \u001b[0;34m=\u001b[0m \u001b[0mme\u001b[0m \u001b[0;34m+\u001b[0m \u001b[0mcustomer_money\u001b[0m \u001b[0;34m-\u001b[0m \u001b[0;36m50\u001b[0m\u001b[0;34m\u001b[0m\u001b[0;34m\u001b[0m\u001b[0m\n\u001b[1;32m      5\u001b[0m     \u001b[0;32mif\u001b[0m \u001b[0mme\u001b[0m \u001b[0;34m<\u001b[0m \u001b[0;36m0\u001b[0m\u001b[0;34m:\u001b[0m\u001b[0;34m\u001b[0m\u001b[0;34m\u001b[0m\u001b[0m\n",
      "\u001b[0;31mIndexError\u001b[0m: list index out of range"
     ]
    }
   ],
   "source": [
    "def sell(me, gull, customer_list):\n",
    "    ran_num = random.randint(0, gull)\n",
    "    customer_money = customer_list[ran_num]\n",
    "    if customer_money == 50:\n",
    "        me += 50\n",
    "    else:\n",
    "        me \n",
    "    me = me + customer_money - 50\n",
    "    if me < 0:\n",
    "        fail += 1\n",
    "        return fail, success\n",
    "    else:\n",
    "        gull -= 1\n",
    "        customer_list.remove(customer_money)\n",
    "        success += 1\n",
    "        sell(me, gull, customer_list)\n",
    "        \n",
    "a, b = sell(me, gull, customer_list)"
   ]
  },
  {
   "cell_type": "code",
   "execution_count": 23,
   "metadata": {},
   "outputs": [],
   "source": [
    "asdf = [10, 10, 10, 10, 10]"
   ]
  },
  {
   "cell_type": "code",
   "execution_count": 27,
   "metadata": {},
   "outputs": [
    {
     "ename": "TypeError",
     "evalue": "pop() takes no keyword arguments",
     "output_type": "error",
     "traceback": [
      "\u001b[0;31m---------------------------------------------------------------------------\u001b[0m",
      "\u001b[0;31mTypeError\u001b[0m                                 Traceback (most recent call last)",
      "\u001b[0;32m<ipython-input-27-4cab83515ef6>\u001b[0m in \u001b[0;36m<module>\u001b[0;34m\u001b[0m\n\u001b[0;32m----> 1\u001b[0;31m \u001b[0ma\u001b[0m \u001b[0;34m=\u001b[0m \u001b[0masdf\u001b[0m\u001b[0;34m.\u001b[0m\u001b[0mpop\u001b[0m\u001b[0;34m(\u001b[0m\u001b[0mvalue\u001b[0m\u001b[0;34m=\u001b[0m\u001b[0;36m10\u001b[0m\u001b[0;34m)\u001b[0m\u001b[0;34m\u001b[0m\u001b[0;34m\u001b[0m\u001b[0m\n\u001b[0m\u001b[1;32m      2\u001b[0m \u001b[0masdf\u001b[0m\u001b[0;34m\u001b[0m\u001b[0;34m\u001b[0m\u001b[0m\n\u001b[1;32m      3\u001b[0m \u001b[0ma\u001b[0m\u001b[0;34m\u001b[0m\u001b[0;34m\u001b[0m\u001b[0m\n",
      "\u001b[0;31mTypeError\u001b[0m: pop() takes no keyword arguments"
     ]
    }
   ],
   "source": [
    "asdf.pop()\n",
    "asdf\n",
    "a"
   ]
  },
  {
   "cell_type": "code",
   "execution_count": null,
   "metadata": {},
   "outputs": [],
   "source": []
  }
 ],
 "metadata": {
  "kernelspec": {
   "display_name": "Python 3",
   "language": "python",
   "name": "python3"
  },
  "language_info": {
   "codemirror_mode": {
    "name": "ipython",
    "version": 3
   },
   "file_extension": ".py",
   "mimetype": "text/x-python",
   "name": "python",
   "nbconvert_exporter": "python",
   "pygments_lexer": "ipython3",
   "version": "3.6.8"
  }
 },
 "nbformat": 4,
 "nbformat_minor": 2
}
