{
 "cells": [
  {
   "cell_type": "markdown",
   "metadata": {},
   "source": [
    "# 가정:\n",
    "\n",
    "## A씨는 과일장사이고 1 박스에 10개씩 들어 있는 귤을 1개씩 팔고 있다.\n",
    "\n",
    "## 귤은 1개에 50원이고 1명에게는 딱 1개씩만 팔게 되어있다.\n",
    "\n",
    "## 손님들은 50원 또는 100원짜리 하나씩만 가지고 있다.\n",
    "\n",
    " \n",
    "\n",
    "# 문제:\n",
    "\n",
    "## A씨가 아침에 거스름돈 하나도 없이 장사를 시작해서 귤 10 상자 즉 100개를 무사히 다 팔 수 있는 확률은 얼마인가?\n",
    "\n",
    "## 단, 50원과 100원을 가진 손님의 수는 같고 무작위로 방문하여 귤을 산다고 가정한다.\n",
    "\n",
    " \n",
    "\n",
    "-       입력: 전체 귤의 상자 수\n",
    "\n",
    "-       출력: 전체 실행시간과 A씨가 무사히 장사를 마칠 확률 (소수점 2째자리까지 표시)\n",
    "\n",
    "-       참고: 공식을 사용하면 안되고, 정답은 1/50 으로 0.02 이다."
   ]
  },
  {
   "cell_type": "code",
   "execution_count": 15,
   "metadata": {},
   "outputs": [],
   "source": [
    "li =[]\n",
    "for i in range(50):\n",
    "    li.append(50)\n",
    "    li.append(100)\n",
    "li = [50, 100]"
   ]
  },
  {
   "cell_type": "code",
   "execution_count": 37,
   "metadata": {},
   "outputs": [
    {
     "name": "stdout",
     "output_type": "stream",
     "text": [
      "전체 귤상자를 입력하세요10\n"
     ]
    }
   ],
   "source": [
    "box = input('전체 귤상자를 입력하세요')\n",
    "gull = int(box * 10)"
   ]
  },
  {
   "cell_type": "code",
   "execution_count": 33,
   "metadata": {},
   "outputs": [],
   "source": [
    "change = 0\n",
    "idx = 0\n",
    "result = 0\n",
    "a = 0"
   ]
  },
  {
   "cell_type": "code",
   "execution_count": 35,
   "metadata": {},
   "outputs": [
    {
     "ename": "SyntaxError",
     "evalue": "name 'idx' is parameter and global (<ipython-input-35-71ec7d945f72>, line 6)",
     "output_type": "error",
     "traceback": [
      "\u001b[0;36m  File \u001b[0;32m\"<ipython-input-35-71ec7d945f72>\"\u001b[0;36m, line \u001b[0;32m6\u001b[0m\n\u001b[0;31m    return 1\u001b[0m\n\u001b[0m       ^\u001b[0m\n\u001b[0;31mSyntaxError\u001b[0m\u001b[0;31m:\u001b[0m name 'idx' is parameter and global\n"
     ]
    }
   ],
   "source": [
    "def solve(idx, change, kind):\n",
    "    global result\n",
    "    global idx\n",
    "    global change\n",
    "    if idx == 100:\n",
    "        return 1\n",
    "    if kind == 50:\n",
    "        change += 1\n",
    "        return 1\n",
    "    else kind == 100:                                                                                                                                                                                                                                                                                                                                                                                               \n",
    "        if change >= 1:\n",
    "            change -= 1\n",
    "            return 1\n",
    "        else:\n",
    "            return 0\n",
    "    \n",
    "    for customer in range(0,2):\n",
    "       ret = result + solve(idx, change, li[customer])\n",
    "\n",
    "solve(idx, change, li)"
   ]
  },
  {
   "cell_type": "code",
   "execution_count": 26,
   "metadata": {},
   "outputs": [
    {
     "name": "stdout",
     "output_type": "stream",
     "text": [
      "None\n"
     ]
    }
   ],
   "source": [
    "print(a)"
   ]
  },
  {
   "cell_type": "code",
   "execution_count": 27,
   "metadata": {},
   "outputs": [
    {
     "ename": "TypeError",
     "evalue": "pop() takes no keyword arguments",
     "output_type": "error",
     "traceback": [
      "\u001b[0;31m---------------------------------------------------------------------------\u001b[0m",
      "\u001b[0;31mTypeError\u001b[0m                                 Traceback (most recent call last)",
      "\u001b[0;32m<ipython-input-27-4cab83515ef6>\u001b[0m in \u001b[0;36m<module>\u001b[0;34m\u001b[0m\n\u001b[0;32m----> 1\u001b[0;31m \u001b[0ma\u001b[0m \u001b[0;34m=\u001b[0m \u001b[0masdf\u001b[0m\u001b[0;34m.\u001b[0m\u001b[0mpop\u001b[0m\u001b[0;34m(\u001b[0m\u001b[0mvalue\u001b[0m\u001b[0;34m=\u001b[0m\u001b[0;36m10\u001b[0m\u001b[0;34m)\u001b[0m\u001b[0;34m\u001b[0m\u001b[0;34m\u001b[0m\u001b[0m\n\u001b[0m\u001b[1;32m      2\u001b[0m \u001b[0masdf\u001b[0m\u001b[0;34m\u001b[0m\u001b[0;34m\u001b[0m\u001b[0m\n\u001b[1;32m      3\u001b[0m \u001b[0ma\u001b[0m\u001b[0;34m\u001b[0m\u001b[0;34m\u001b[0m\u001b[0m\n",
      "\u001b[0;31mTypeError\u001b[0m: pop() takes no keyword arguments"
     ]
    }
   ],
   "source": []
  },
  {
   "cell_type": "code",
   "execution_count": null,
   "metadata": {},
   "outputs": [],
   "source": []
  }
 ],
 "metadata": {
  "celltoolbar": "Raw Cell Format",
  "kernelspec": {
   "display_name": "Python 3",
   "language": "python",
   "name": "python3"
  },
  "language_info": {
   "codemirror_mode": {
    "name": "ipython",
    "version": 3
   },
   "file_extension": ".py",
   "mimetype": "text/x-python",
   "name": "python",
   "nbconvert_exporter": "python",
   "pygments_lexer": "ipython3",
   "version": "3.6.8"
  }
 },
 "nbformat": 4,
 "nbformat_minor": 2
}
