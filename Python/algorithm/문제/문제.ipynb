{
 "cells": [
  {
   "cell_type": "markdown",
   "metadata": {},
   "source": [
    "# 소풍\n",
    "### 어떤 학교에서 소풍을 간다. 학생들을 두명씩 짝지어 행동하게 하려한다.\n",
    "### 서로 친구인 경우에만 짝을 지어야 한다.\n",
    "### 서로 친구인 경우의 쌍이 주어질 때\n",
    "### 학생들을 짝지을 수 있는 방법의 수를 구하는 프로그램을 구현하라.\n",
    "#### 알고리즘 문제 해결 전략 1권 p. 157"
   ]
  },
  {
   "cell_type": "markdown",
   "metadata": {},
   "source": [
    "## first set\n",
    "## 학생수 : 4\n",
    "## 친구 쌍 : (0,1), (1,2), (2,3), (3,0), (0,2), (1,3)"
   ]
  },
  {
   "cell_type": "code",
   "execution_count": 30,
   "metadata": {},
   "outputs": [],
   "source": [
    "n=4\n",
    "friends = [[False for _ in range(n)] for _ in range(n)]\n",
    "friends[0][1] = friends[1][0] = True\n",
    "friends[1][2] = friends[2][1] = True\n",
    "friends[2][3] = friends[3][2] = True\n",
    "friends[3][0] = friends[0][3] = True\n",
    "friends[0][2] = friends[2][0] = True\n",
    "friends[1][3] = friends[3][1] = True\n",
    "has_pair = [False for _ in range(n)]"
   ]
  },
  {
   "cell_type": "code",
   "execution_count": 31,
   "metadata": {},
   "outputs": [],
   "source": [
    "def solve(has_pair):\n",
    "    first = None\n",
    "    for i in range(n):\n",
    "        if has_pair[i] == False:\n",
    "            first = i\n",
    "            break\n",
    "    if first == None:\n",
    "        return 1\n",
    "    \n",
    "    \n",
    "    ret = 0\n",
    "    for student in range(first+1, n):\n",
    "        if has_pair[student] == False and friends[first][student] == True:\n",
    "            has_pair[student] = has_pair[first] = True\n",
    "            ret += solve(has_pair)\n",
    "            has_pair[student] = has_pair[first] = False\n",
    "    return ret\n",
    "        \n",
    "    \n"
   ]
  },
  {
   "cell_type": "code",
   "execution_count": 32,
   "metadata": {},
   "outputs": [
    {
     "data": {
      "text/plain": [
       "3"
      ]
     },
     "execution_count": 32,
     "metadata": {},
     "output_type": "execute_result"
    }
   ],
   "source": [
    "solve(has_pair)"
   ]
  },
  {
   "cell_type": "markdown",
   "metadata": {},
   "source": [
    "# boardcover\n",
    "## HxW의 보드가 검은색과 흰색으로 채워져 있다.\n",
    "## 모든 흰칸을 L자 모양의 흔색 블록으로 덮고 싶다.\n",
    "## 블록은 회전 가능하지만 겹치거나 검은 색을 침범하거나\n",
    "## 밖으로 나가서는 안된다.\n",
    "## 보드가 있을 때 이를 덮는 방법의 수를 계산하는 프로그램을 만드시오\n"
   ]
  },
  {
   "cell_type": "code",
   "execution_count": 6,
   "metadata": {},
   "outputs": [],
   "source": [
    "H=8\n",
    "W=10\n",
    "board = [\n",
    "    [1, 1, 1, 1, 1, 1, 1, 1, 1, 1],\n",
    "    [1, 0, 0, 0, 0, 0, 0, 0, 0, 1],\n",
    "    [1, 0, 0, 0, 0, 0, 0, 0, 0, 1],\n",
    "    [1, 0, 0, 0, 0, 0, 0, 0, 0, 1],\n",
    "    [1, 0, 0, 0, 0, 0, 0, 0, 0, 1],\n",
    "    [1, 0, 0, 0, 0, 0, 0, 0, 0, 1],\n",
    "    [1, 0, 0, 0, 0, 0, 0, 0, 0, 1],\n",
    "    [1, 1, 1, 1, 1, 1, 1, 1, 1, 1]\n",
    "]"
   ]
  },
  {
   "cell_type": "code",
   "execution_count": 7,
   "metadata": {},
   "outputs": [],
   "source": [
    "# 특정 지점에서 위치시킬 수 있는 지점 (y, x)\n",
    "cases = [\n",
    "    [[1, 0], [0, 1], [0, 0]],\n",
    "    [[0, 1], [1, 1], [0, 0]],\n",
    "    [[1, 0], [1, 1], [0, 0]],\n",
    "    [[1, 0], [1, -1], [0, 0]],\n",
    "]"
   ]
  },
  {
   "cell_type": "code",
   "execution_count": 11,
   "metadata": {},
   "outputs": [],
   "source": [
    "# (y, x) 위치가 보드를 벗어났는가?\n",
    "def in_range(y, x):\n",
    "    if y < 0 or x < 0 or y <= H or x <= W:\n",
    "        return True\n",
    "    return False\n",
    "\n",
    "# (y, x)에 c 타입의 블록을 넣는 함수\n",
    "def put(y, x, c):\n",
    "    # c : 블록 타입\n",
    "    ret = True\n",
    "    for point in c:\n",
    "        _y = y + point[0]\n",
    "        _x = x + point[1]\n",
    "        if not in_range(_y, _x):\n",
    "            ret = False\n",
    "        else:\n",
    "            board[_y][_x] += 1\n",
    "            if board[_y][_x] > 1:\n",
    "                ret = False\n",
    "    return ret\n",
    "        \n",
    "# (y, x)에서 c 타입의 블록을 빼는 함수\n",
    "def get(y, x, c):\n",
    "    for point in c:\n",
    "        _y = y + point[0]\n",
    "        _x = x + point[1]\n",
    "        if not in_range(_y, _x):\n",
    "            continue\n",
    "        else:\n",
    "            board[_y][_x] -= 1"
   ]
  },
  {
   "cell_type": "code",
   "execution_count": 12,
   "metadata": {},
   "outputs": [],
   "source": [
    "def solve():\n",
    "    # base_case\n",
    "    f_x = f_y = None\n",
    "    for i in range(H):\n",
    "        for j in range(W):\n",
    "            if board[i][j] == 0:\n",
    "                f_x = j\n",
    "                f_y = i\n",
    "                break\n",
    "        if f_x != None:\n",
    "            break\n",
    "           \n",
    "    if f_x == None:\n",
    "        return 1\n",
    "    \n",
    "    ret = 0\n",
    "    for c in cases:\n",
    "        if put(f_y, f_x, c):\n",
    "            ret += solve()\n",
    "        get(f_y, f_x, c)\n",
    "        \n",
    "    return ret"
   ]
  },
  {
   "cell_type": "code",
   "execution_count": 13,
   "metadata": {},
   "outputs": [
    {
     "data": {
      "text/plain": [
       "1"
      ]
     },
     "execution_count": 13,
     "metadata": {},
     "output_type": "execute_result"
    }
   ],
   "source": [
    "solve()"
   ]
  },
  {
   "cell_type": "code",
   "execution_count": null,
   "metadata": {},
   "outputs": [],
   "source": []
  }
 ],
 "metadata": {
  "kernelspec": {
   "display_name": "Python 3",
   "language": "python",
   "name": "python3"
  },
  "language_info": {
   "codemirror_mode": {
    "name": "ipython",
    "version": 3
   },
   "file_extension": ".py",
   "mimetype": "text/x-python",
   "name": "python",
   "nbconvert_exporter": "python",
   "pygments_lexer": "ipython3",
   "version": "3.6.8"
  }
 },
 "nbformat": 4,
 "nbformat_minor": 2
}
