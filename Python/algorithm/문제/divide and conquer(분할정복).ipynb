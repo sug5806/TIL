{
 "cells": [
  {
   "cell_type": "markdown",
   "metadata": {},
   "source": [
    "# 쿼드트리 뒤집기\n",
    "\n",
    "## 모든 픽셀이 블랙일 경우 : b\n",
    "## 모든 픽셀이 화이트인 경우 : w\n",
    "## 모든 픽셀이 같은 색이 아니면 2x2로 4등분하여\n",
    "## x(0,0)(0,1)(1,0)(1,1)로 압축한다\n",
    "## 압축된 문자열이 주어질 때 이를 뒤집은 압축 문자열을 생성하는 프로그램을 만드시오\n",
    "## 알고리즘 문제해결전략 p.190"
   ]
  },
  {
   "cell_type": "code",
   "execution_count": 165,
   "metadata": {},
   "outputs": [],
   "source": [
    "n=16\n",
    "compressed=\"xxwwwbxwxwbbbwwxxxwwbbbwwwwbb\""
   ]
  },
  {
   "cell_type": "code",
   "execution_count": 207,
   "metadata": {},
   "outputs": [],
   "source": [
    "class Iterator:\n",
    "    def __init__(self, raw_string):\n",
    "        # raw_string : 압축된 문자열\n",
    "        self.string=raw_string\n",
    "        self.iterator=-1\n",
    "        \n",
    "    def __iter__(self):\n",
    "        return self\n",
    "    \n",
    "    def __next__(self):\n",
    "        self.iterator+=1\n",
    "        if self.iterator == len(self.string):\n",
    "            raise StopIteration\n",
    "        return self.string[self.iterator]"
   ]
  },
  {
   "cell_type": "code",
   "execution_count": 214,
   "metadata": {},
   "outputs": [],
   "source": [
    "it = Iterator(compressed)\n"
   ]
  },
  {
   "cell_type": "code",
   "execution_count": 238,
   "metadata": {},
   "outputs": [
    {
     "name": "stdout",
     "output_type": "stream",
     "text": [
      "w\n"
     ]
    }
   ],
   "source": [
    "\n",
    "ch = next(it)\n",
    "print(ch)\n"
   ]
  },
  {
   "cell_type": "code",
   "execution_count": 321,
   "metadata": {},
   "outputs": [],
   "source": [
    "ret = [[None for _ in range(n)] for _ in range(n)]\n",
    "def decompress(it, y, x, size):\n",
    "    ch = next(it)\n",
    "    if ch == 'w' or ch == 'b':\n",
    "        for i in range(size):\n",
    "            for j in range(size):\n",
    "                ret[y+i][x+j] = ch\n",
    "        return ret\n",
    "    # ch가 x일 경우\n",
    "    else:\n",
    "        new_size = size//2\n",
    "        decompress(it, y, x, new_size)\n",
    "        decompress(it, y, x + new_size, new_size)\n",
    "        decompress(it, y + new_size, x, new_size)\n",
    "        decompress(it, y + new_size, x + new_size, new_size)"
   ]
  },
  {
   "cell_type": "code",
   "execution_count": 322,
   "metadata": {},
   "outputs": [],
   "source": [
    "decompress(Iterator(compressed), 0, 0, n)"
   ]
  },
  {
   "cell_type": "code",
   "execution_count": 323,
   "metadata": {},
   "outputs": [
    {
     "name": "stdout",
     "output_type": "stream",
     "text": [
      "- - - - - - - - - - - - - - # # \n",
      "- - - - - - - - - - - - - - # # \n",
      "- - - - - - - - - - - - # # # # \n",
      "- - - - - - - - - - - - # # # # \n",
      "- - - - # # # # - - - - - - - - \n",
      "- - - - # # # # - - - - - - - - \n",
      "- - - - # # # # - - - - - - - - \n",
      "- - - - # # # # - - - - - - - - \n",
      "- - # # - - - - # # # # # # # # \n",
      "# # # # - - - - # # # # # # # # \n",
      "- - - - - - - - # # # # # # # # \n",
      "- - - - - - - - # # # # # # # # \n",
      "- - - - # # # # # # # # # # # # \n",
      "- - - - # # # # # # # # # # # # \n",
      "- - - - # # # # # # # # # # # # \n",
      "- - - - # # # # # # # # # # # # \n"
     ]
    }
   ],
   "source": [
    "for row in ret:\n",
    "    for c in row:\n",
    "        if c=='b':\n",
    "            print('#', end=\" \")\n",
    "        else:\n",
    "            print('-', end=\" \")\n",
    "    print()"
   ]
  },
  {
   "cell_type": "code",
   "execution_count": 325,
   "metadata": {},
   "outputs": [
    {
     "data": {
      "text/plain": [
       "'xxwbxwwxbbwwbwbxwbwwxwwwxbbwb'"
      ]
     },
     "execution_count": 325,
     "metadata": {},
     "output_type": "execute_result"
    }
   ],
   "source": [
    "def solve(it):\n",
    "    head = next(it)\n",
    "    if head == \"b\" or head == \"w\":\n",
    "        return head\n",
    "    # head = 'x'\n",
    "    else:\n",
    "        c1 = solve(it)\n",
    "        c2 = solve(it)\n",
    "        c3 = solve(it)\n",
    "        c4 = solve(it)\n",
    "        return 'x'+c3+c4+c1+c2\n",
    "solve(Iterator(compressed))"
   ]
  },
  {
   "cell_type": "code",
   "execution_count": 326,
   "metadata": {},
   "outputs": [
    {
     "name": "stdout",
     "output_type": "stream",
     "text": [
      "- - - - - - - - - - - - - - # # \n",
      "- - - - - - - - - - - - - - # # \n",
      "- - - - - - - - - - - - # # # # \n",
      "- - - - - - - - - - - - # # # # \n",
      "- - - - # # # # - - - - - - - - \n",
      "- - - - # # # # - - - - - - - - \n",
      "- - - - # # # # - - - - - - - - \n",
      "- - - - # # # # - - - - - - - - \n",
      "- - # # - - - - # # # # # # # # \n",
      "# # # # - - - - # # # # # # # # \n",
      "- - - - - - - - # # # # # # # # \n",
      "- - - - - - - - # # # # # # # # \n",
      "- - - - # # # # # # # # # # # # \n",
      "- - - - # # # # # # # # # # # # \n",
      "- - - - # # # # # # # # # # # # \n",
      "- - - - # # # # # # # # # # # # \n"
     ]
    }
   ],
   "source": [
    "for row in ret:\n",
    "    for c in row:\n",
    "        if c=='b':\n",
    "            print('#', end=\" \")\n",
    "        else:\n",
    "            print('-', end=\" \")\n",
    "    print()"
   ]
  },
  {
   "cell_type": "code",
   "execution_count": null,
   "metadata": {},
   "outputs": [],
   "source": []
  },
  {
   "cell_type": "code",
   "execution_count": null,
   "metadata": {},
   "outputs": [],
   "source": []
  },
  {
   "cell_type": "markdown",
   "metadata": {},
   "source": [
    "# 울타리 잘라내기\n",
    "# 너비가 1인 파자를 붙인 울타리가 있다.\n",
    "# 판자의 높이가 주어지고\n",
    "# 울타리의 일부를 잘라내려고 할 때\n",
    "# 가장 넓이가 넓게 잘라내는 프로그램을 작성하시오.\n"
   ]
  },
  {
   "cell_type": "code",
   "execution_count": 328,
   "metadata": {},
   "outputs": [],
   "source": [
    "N=7\n",
    "height=[7, 1, 5, 9, 6, 7, 3]"
   ]
  },
  {
   "cell_type": "markdown",
   "metadata": {},
   "source": [
    "## exhaustive solution"
   ]
  },
  {
   "cell_type": "code",
   "execution_count": 331,
   "metadata": {},
   "outputs": [],
   "source": [
    "def exhaustive():\n",
    "    ret = 0\n",
    "    for left in range(N):\n",
    "        h = height[left]\n",
    "        for right in range(left, N):\n",
    "            h = min(h, height[right])\n",
    "            temp = (right-left+1)*h\n",
    "            ret = max(ret, temp)\n",
    "    return ret"
   ]
  },
  {
   "cell_type": "code",
   "execution_count": 332,
   "metadata": {},
   "outputs": [
    {
     "data": {
      "text/plain": [
       "20"
      ]
     },
     "execution_count": 332,
     "metadata": {},
     "output_type": "execute_result"
    }
   ],
   "source": [
    "exhaustive()"
   ]
  },
  {
   "cell_type": "markdown",
   "metadata": {},
   "source": [
    "# divide and conquer"
   ]
  },
  {
   "cell_type": "code",
   "execution_count": 349,
   "metadata": {},
   "outputs": [
    {
     "ename": "IndexError",
     "evalue": "list index out of range",
     "output_type": "error",
     "traceback": [
      "\u001b[0;31m---------------------------------------------------------------------------\u001b[0m",
      "\u001b[0;31mIndexError\u001b[0m                                Traceback (most recent call last)",
      "\u001b[0;32m<ipython-input-349-8b7d138c1696>\u001b[0m in \u001b[0;36m<module>\u001b[0;34m\u001b[0m\n\u001b[1;32m     32\u001b[0m \u001b[0;34m\u001b[0m\u001b[0m\n\u001b[1;32m     33\u001b[0m \u001b[0;34m\u001b[0m\u001b[0m\n\u001b[0;32m---> 34\u001b[0;31m \u001b[0mdivide_and_conquer\u001b[0m\u001b[0;34m(\u001b[0m\u001b[0;36m0\u001b[0m\u001b[0;34m,\u001b[0m \u001b[0mN\u001b[0m\u001b[0;34m-\u001b[0m\u001b[0;36m1\u001b[0m\u001b[0;34m)\u001b[0m\u001b[0;34m\u001b[0m\u001b[0;34m\u001b[0m\u001b[0m\n\u001b[0m",
      "\u001b[0;32m<ipython-input-349-8b7d138c1696>\u001b[0m in \u001b[0;36mdivide_and_conquer\u001b[0;34m(left, right)\u001b[0m\n\u001b[1;32m      8\u001b[0m     \u001b[0mlret\u001b[0m \u001b[0;34m=\u001b[0m \u001b[0mdivide_and_conquer\u001b[0m\u001b[0;34m(\u001b[0m\u001b[0mleft\u001b[0m\u001b[0;34m,\u001b[0m \u001b[0mmid\u001b[0m\u001b[0;34m)\u001b[0m\u001b[0;34m\u001b[0m\u001b[0;34m\u001b[0m\u001b[0m\n\u001b[1;32m      9\u001b[0m     \u001b[0;31m# max of A --> [right]\u001b[0m\u001b[0;34m\u001b[0m\u001b[0;34m\u001b[0m\u001b[0;34m\u001b[0m\u001b[0m\n\u001b[0;32m---> 10\u001b[0;31m     \u001b[0mrret\u001b[0m \u001b[0;34m=\u001b[0m \u001b[0mdivide_and_conquer\u001b[0m\u001b[0;34m(\u001b[0m\u001b[0mmid\u001b[0m\u001b[0;34m+\u001b[0m\u001b[0;36m1\u001b[0m\u001b[0;34m,\u001b[0m \u001b[0mright\u001b[0m\u001b[0;34m)\u001b[0m\u001b[0;34m\u001b[0m\u001b[0;34m\u001b[0m\u001b[0m\n\u001b[0m\u001b[1;32m     11\u001b[0m     \u001b[0mret\u001b[0m \u001b[0;34m=\u001b[0m \u001b[0mmax\u001b[0m\u001b[0;34m(\u001b[0m\u001b[0mlret\u001b[0m\u001b[0;34m,\u001b[0m \u001b[0mrret\u001b[0m\u001b[0;34m)\u001b[0m\u001b[0;34m\u001b[0m\u001b[0;34m\u001b[0m\u001b[0m\n\u001b[1;32m     12\u001b[0m \u001b[0;34m\u001b[0m\u001b[0m\n",
      "\u001b[0;32m<ipython-input-349-8b7d138c1696>\u001b[0m in \u001b[0;36mdivide_and_conquer\u001b[0;34m(left, right)\u001b[0m\n\u001b[1;32m     23\u001b[0m             \u001b[0mh\u001b[0m \u001b[0;34m=\u001b[0m \u001b[0mmin\u001b[0m\u001b[0;34m(\u001b[0m\u001b[0mh\u001b[0m\u001b[0;34m,\u001b[0m \u001b[0mheight\u001b[0m\u001b[0;34m[\u001b[0m\u001b[0mhigh\u001b[0m\u001b[0;34m]\u001b[0m\u001b[0;34m)\u001b[0m\u001b[0;34m\u001b[0m\u001b[0;34m\u001b[0m\u001b[0m\n\u001b[1;32m     24\u001b[0m \u001b[0;34m\u001b[0m\u001b[0m\n\u001b[0;32m---> 25\u001b[0;31m         \u001b[0mtemp\u001b[0m \u001b[0;34m=\u001b[0m \u001b[0mmax\u001b[0m\u001b[0;34m(\u001b[0m\u001b[0mheight\u001b[0m\u001b[0;34m[\u001b[0m\u001b[0mlow\u001b[0m\u001b[0;34m-\u001b[0m\u001b[0;36m1\u001b[0m\u001b[0;34m]\u001b[0m\u001b[0;34m,\u001b[0m \u001b[0mheight\u001b[0m\u001b[0;34m[\u001b[0m\u001b[0mhigh\u001b[0m\u001b[0;34m+\u001b[0m\u001b[0;36m1\u001b[0m\u001b[0;34m]\u001b[0m\u001b[0;34m)\u001b[0m\u001b[0;34m\u001b[0m\u001b[0;34m\u001b[0m\u001b[0m\n\u001b[0m\u001b[1;32m     26\u001b[0m         \u001b[0mh\u001b[0m \u001b[0;34m=\u001b[0m \u001b[0mmin\u001b[0m\u001b[0;34m(\u001b[0m\u001b[0mh\u001b[0m\u001b[0;34m,\u001b[0m \u001b[0mtemp\u001b[0m\u001b[0;34m)\u001b[0m\u001b[0;34m\u001b[0m\u001b[0;34m\u001b[0m\u001b[0m\n\u001b[1;32m     27\u001b[0m         \u001b[0ma\u001b[0m \u001b[0;34m=\u001b[0m \u001b[0mh\u001b[0m \u001b[0;34m*\u001b[0m \u001b[0;34m(\u001b[0m\u001b[0mhigh\u001b[0m \u001b[0;34m-\u001b[0m \u001b[0mlow\u001b[0m\u001b[0;34m+\u001b[0m\u001b[0;36m1\u001b[0m\u001b[0;34m)\u001b[0m\u001b[0;34m\u001b[0m\u001b[0;34m\u001b[0m\u001b[0m\n",
      "\u001b[0;31mIndexError\u001b[0m: list index out of range"
     ]
    }
   ],
   "source": [
    "def divide_and_conquer(left, right):\n",
    "    # base case\n",
    "    if left == right:\n",
    "        return height[left]\n",
    "    \n",
    "    # max of A --> [left]\n",
    "    mid = (left+right)//2\n",
    "    lret = divide_and_conquer(left, mid)\n",
    "    # max of A --> [right]\n",
    "    rret = divide_and_conquer(mid+1, right)\n",
    "    ret = max(lret, rret)\n",
    "    \n",
    "    low = mid\n",
    "    high = mid+1\n",
    "    h = min(height[low], height[high]) \n",
    "    ret = max(ret, 2*h)\n",
    "    while low > left or high < right:\n",
    "        if low > left and (high == right or height[low-1] > height[high+1]):\n",
    "            low -= 1\n",
    "            h = min(h, height[low])\n",
    "        else: \n",
    "            high += 1\n",
    "            h = min(h, height[high])\n",
    "        ret = max(ret, h*2)\n",
    "        \n",
    "    return ret\n",
    "        \n",
    "    \n",
    "    \n",
    "divide_and_conquer(0, N-1)    "
   ]
  },
  {
   "cell_type": "code",
   "execution_count": null,
   "metadata": {},
   "outputs": [],
   "source": []
  }
 ],
 "metadata": {
  "kernelspec": {
   "display_name": "Python 3",
   "language": "python",
   "name": "python3"
  },
  "language_info": {
   "codemirror_mode": {
    "name": "ipython",
    "version": 3
   },
   "file_extension": ".py",
   "mimetype": "text/x-python",
   "name": "python",
   "nbconvert_exporter": "python",
   "pygments_lexer": "ipython3",
   "version": "3.6.8"
  }
 },
 "nbformat": 4,
 "nbformat_minor": 2
}
