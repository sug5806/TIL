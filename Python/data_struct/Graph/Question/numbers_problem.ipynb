{
 "cells": [
  {
   "cell_type": "markdown",
   "metadata": {},
   "source": [
    "## 탈옥수가 검문을 피해 마을과 마을 사이를 도망다니고 있다.\n",
    "## 탈옥수는 탈출 당일 인접한 마을에 숨었다.\n",
    "## 매일 인접한 마을로 이동해 숨는다.\n",
    "## d일이 지났을 때 각 마을에 숨어있을 확률을 구하시오.\n",
    "## 알고리즘 문제해결전략 1권 p.269 NUMB3RS"
   ]
  },
  {
   "cell_type": "code",
   "execution_count": 28,
   "metadata": {},
   "outputs": [],
   "source": [
    "# 마을의 수 \n",
    "n=5\n",
    "# 지난 일 수\n",
    "d=2\n",
    "# 처음 탈출한 마을은 0\n",
    "start=0\n",
    "# 마을과 마을 사이에 길이 있는지를 보여주는 행렬\n",
    "connected=[\n",
    "    [0, 1, 1, 1, 0],\n",
    "    [1, 0, 0, 0, 1],\n",
    "    [1, 0, 0, 0, 0],\n",
    "    [1, 0, 0, 0, 0],\n",
    "    [0, 1, 0, 0, 0]\n",
    "]\n",
    "\n",
    "#인접한 마을의 수 배열\n",
    "deg=[3, 2, 1, 1, 1]"
   ]
  },
  {
   "cell_type": "code",
   "execution_count": 40,
   "metadata": {},
   "outputs": [],
   "source": [
    "# solve(v, days)->v 마을에 있을 때 days일이 지난 후 t 마을에 탈옥수가 있을 확률\n",
    "def solve(v, days):\n",
    "    if days == d:\n",
    "        return 1.0 if v==t else 0.0\n",
    "    \n",
    "    # 이미 계산된 값이 cache에 있다면 그 값을 반환\n",
    "    if cache[v][days] != None:\n",
    "        return cache[v][days]\n",
    "    \n",
    "    # 캐시에 없다면 반환값을 계산해서 반환\n",
    "    cache[v][days] = 0.0\n",
    "    for nxt in range(n):\n",
    "        if connected[v][nxt]:\n",
    "            cache[v][days] += solve(nxt, days+1)/deg[v]\n",
    "    return cache[v][days]\n"
   ]
  },
  {
   "cell_type": "code",
   "execution_count": 41,
   "metadata": {},
   "outputs": [],
   "source": [
    "prob2=[]\n",
    "for t in range(n):\n",
    "    cache=[[None for _ in range(30)] for _ in range(10)]\n",
    "    prob2.append(solve(0, 0))"
   ]
  },
  {
   "cell_type": "code",
   "execution_count": 42,
   "metadata": {},
   "outputs": [
    {
     "data": {
      "text/plain": [
       "[0.8333333333333333, 0.0, 0.0, 0.0, 0.16666666666666666]"
      ]
     },
     "execution_count": 42,
     "metadata": {},
     "output_type": "execute_result"
    }
   ],
   "source": [
    "prob2"
   ]
  },
  {
   "cell_type": "code",
   "execution_count": 43,
   "metadata": {},
   "outputs": [
    {
     "data": {
      "text/plain": [
       "[0.8333333333333333, 0.0, 0.0, 0.0, 0.16666666666666666]"
      ]
     },
     "execution_count": 43,
     "metadata": {},
     "output_type": "execute_result"
    }
   ],
   "source": [
    "prob2"
   ]
  },
  {
   "cell_type": "code",
   "execution_count": null,
   "metadata": {},
   "outputs": [],
   "source": []
  }
 ],
 "metadata": {
  "kernelspec": {
   "display_name": "Python 3",
   "language": "python",
   "name": "python3"
  },
  "language_info": {
   "codemirror_mode": {
    "name": "ipython",
    "version": 3
   },
   "file_extension": ".py",
   "mimetype": "text/x-python",
   "name": "python",
   "nbconvert_exporter": "python",
   "pygments_lexer": "ipython3",
   "version": "3.6.8"
  }
 },
 "nbformat": 4,
 "nbformat_minor": 2
}
