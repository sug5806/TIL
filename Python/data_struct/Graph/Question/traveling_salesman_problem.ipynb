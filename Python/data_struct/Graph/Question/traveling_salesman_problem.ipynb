{
 "cells": [
  {
   "cell_type": "markdown",
   "metadata": {},
   "source": [
    "# TSP - 여행하는 외판원 문제\n",
    "### n개의 큰 도시가 있다.\n",
    "### 어떤 세일즈맨이 모든 도시를 한번씩만 방문한 뒤\n",
    "### 다시 돌아오려고 한다. \n",
    "### 모든 경로 중 가장 짧은 경로를 구하시오."
   ]
  },
  {
   "cell_type": "markdown",
   "metadata": {},
   "source": [
    "## TSP\n",
    "1. graph -> 무방향, 가중치 그래프\n",
    "2. 출발한 곳으로 돌아온다(한붓 그리기)\n",
    "3. 그래프의 모든 엣지가 다 있다\n",
    "4. 모든 경로의 합이 최소"
   ]
  },
  {
   "cell_type": "code",
   "execution_count": 1,
   "metadata": {},
   "outputs": [],
   "source": [
    "n=5\n",
    "dist=[\n",
    "    [0, 2, 5, 3, 7],\n",
    "    [2, 0, 10, 6, 6],\n",
    "    [5, 10, 0, 4, 8],\n",
    "    [3, 6, 4, 0, 12],\n",
    "    [7, 6, 8, 12, 0]\n",
    "]"
   ]
  },
  {
   "cell_type": "markdown",
   "metadata": {},
   "source": [
    "# brute force"
   ]
  },
  {
   "cell_type": "code",
   "execution_count": 8,
   "metadata": {},
   "outputs": [],
   "source": [
    "import math\n",
    "\n",
    "path=[]\n",
    "visited=[False for _ in range(n)]\n",
    "# shortest_path1(path, visited, d)->length\n",
    "#이미 거쳐 온 경로 path, 방문한 도시를 나타내는 visited, 지금까지의 길이 d가 주어질 때 최단 경로의 길이\n",
    "def shortest_path1(path, visited, d):\n",
    "    # base case\n",
    "    if all(visited):\n",
    "        return d+dist[path[-1]][path[0]]\n",
    "    else:\n",
    "    # sumation of edges\n",
    "        cur = path[-1]\n",
    "        \n",
    "\n",
    "        ret = math.inf\n",
    "        for _next in range(n):\n",
    "            if not visited[_next]:\n",
    "                path.append(_next)\n",
    "                visited[_next] = True\n",
    "                # shortest_path1()\n",
    "                ret = min(ret, shortest_path1(path, visited, d+dist[cur][_next]))\n",
    "                path.pop()\n",
    "                visited[_next] = False\n",
    "\n",
    "    return ret"
   ]
  },
  {
   "cell_type": "code",
   "execution_count": 9,
   "metadata": {
    "scrolled": true
   },
   "outputs": [
    {
     "data": {
      "text/plain": [
       "23"
      ]
     },
     "execution_count": 9,
     "metadata": {},
     "output_type": "execute_result"
    }
   ],
   "source": [
    "path.append(0)\n",
    "visited[0]=True\n",
    "shortest_path1(path, visited, 0)"
   ]
  },
  {
   "cell_type": "code",
   "execution_count": 4,
   "metadata": {},
   "outputs": [],
   "source": [
    "answer=math.inf\n",
    "path=[]\n",
    "visited=[False for _ in range(n)]\n",
    "for i in range(n):\n",
    "    path.append(i)\n",
    "    visited[i]=True\n",
    "    answer=shortest_path1(path, visited, 0)\n",
    "    path.pop()\n",
    "    visited[i]=False"
   ]
  },
  {
   "cell_type": "markdown",
   "metadata": {},
   "source": [
    "# dynamic programming"
   ]
  },
  {
   "cell_type": "code",
   "execution_count": 10,
   "metadata": {},
   "outputs": [],
   "source": [
    "cache=[[None for _ in range(1<<n)] for _ in range(n)]\n",
    "INF=999999\n",
    "\n",
    "# 0부터 시작한다고 가정\n",
    "# shortest_path2(cur, visited)->length\n",
    "# 현재 위치 cur 방문한 도시들 visited일 때 남은 도시를 방문하는 최소 경로의 길이\n",
    "def shortest_path2(cur, visited):\n",
    "    # base case\n",
    "    if visited==(1<<n)-1:\n",
    "        return dist[cur][0]\n",
    "    \n",
    "    # 모두 방문했다면 처음과 끝의 경로의 길이\n",
    "    if cache[cur][visited] != None:\n",
    "        return cache[cur][visited]\n",
    "    \n",
    "    cache[cur][visited]=INF\n",
    "    for _next in range(n):\n",
    "        # 아직 _next를 방문하지 않았다면\n",
    "        if not (visited & (1<<_next)):\n",
    "            cache[cur][visited] =\\\n",
    "            min(cache[cur][visited], dist[cur][_next]+shortest_path2(_next, visited+(1<<_next)))\n",
    "    return cache[cur][visited]"
   ]
  },
  {
   "cell_type": "code",
   "execution_count": 11,
   "metadata": {},
   "outputs": [
    {
     "data": {
      "text/plain": [
       "23"
      ]
     },
     "execution_count": 11,
     "metadata": {},
     "output_type": "execute_result"
    }
   ],
   "source": [
    "shortest_path2(0, 1)"
   ]
  },
  {
   "cell_type": "code",
   "execution_count": null,
   "metadata": {},
   "outputs": [],
   "source": []
  }
 ],
 "metadata": {
  "kernelspec": {
   "display_name": "Python 3",
   "language": "python",
   "name": "python3"
  },
  "language_info": {
   "codemirror_mode": {
    "name": "ipython",
    "version": 3
   },
   "file_extension": ".py",
   "mimetype": "text/x-python",
   "name": "python",
   "nbconvert_exporter": "python",
   "pygments_lexer": "ipython3",
   "version": "3.6.8"
  }
 },
 "nbformat": 4,
 "nbformat_minor": 2
}
